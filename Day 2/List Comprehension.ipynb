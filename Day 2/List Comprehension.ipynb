{
 "cells": [
  {
   "cell_type": "markdown",
   "metadata": {},
   "source": [
    "# Questions 2:\n",
    "Create a notebook on LIST COMPREHENSION. This exercise is to put you in a Self learning mode"
   ]
  },
  {
   "cell_type": "code",
   "execution_count": 8,
   "metadata": {},
   "outputs": [
    {
     "name": "stdout",
     "output_type": "stream",
     "text": [
      "ADITI\n",
      "['A', 'D', 'I', 'T', 'I']\n"
     ]
    }
   ],
   "source": [
    "# list comprehension for iterating over a word (list comprehension for 'for loop')\n",
    "\n",
    "l=[]\n",
    "n=input()\n",
    "l=[i for i in n]\n",
    "print(l)"
   ]
  },
  {
   "cell_type": "code",
   "execution_count": 6,
   "metadata": {},
   "outputs": [
    {
     "name": "stdout",
     "output_type": "stream",
     "text": [
      "10\n",
      "[0, 2, 4, 6, 8, 10]\n"
     ]
    }
   ],
   "source": [
    "# list comprehension for printing even numbers (list comprehension for 'if condition')\n",
    "\n",
    "l=[]\n",
    "n=int(input())\n",
    "l=[i for i in range(n+1) if i%2==0]\n",
    "print(l)"
   ]
  },
  {
   "cell_type": "code",
   "execution_count": 13,
   "metadata": {},
   "outputs": [
    {
     "name": "stdout",
     "output_type": "stream",
     "text": [
      "100\n",
      "[0, 10, 20, 30, 40, 50, 60, 70, 80, 90, 100]\n"
     ]
    }
   ],
   "source": [
    "# list comprehension for printing numbers divisible by 5 and 2 (list comprehension for logical operator)\n",
    "\n",
    "l=[]\n",
    "n=int(input())\n",
    "l=[i for i in range(n+1) if i%2==0 and i%5==0]\n",
    "print(l)"
   ]
  },
  {
   "cell_type": "code",
   "execution_count": 15,
   "metadata": {},
   "outputs": [
    {
     "name": "stdout",
     "output_type": "stream",
     "text": [
      "aditi\n",
      "['A', 'D', 'I', 'T', 'I']\n"
     ]
    }
   ],
   "source": [
    "# list comprehension for converting lower case to upper case\n",
    "\n",
    "l=[]\n",
    "n=input()\n",
    "l=[i.upper() for i in n]\n",
    "print(l)"
   ]
  },
  {
   "cell_type": "code",
   "execution_count": 16,
   "metadata": {},
   "outputs": [
    {
     "name": "stdout",
     "output_type": "stream",
     "text": [
      "Aditi 1234 Tandel\n",
      "['1', '2', '3', '4']\n"
     ]
    }
   ],
   "source": [
    "# list comprehension for extracting numbers from a sentance\n",
    "\n",
    "l=[]\n",
    "n=input()\n",
    "l=[i for i in n if i.isdigit()]\n",
    "print(l)"
   ]
  },
  {
   "cell_type": "code",
   "execution_count": null,
   "metadata": {},
   "outputs": [],
   "source": []
  }
 ],
 "metadata": {
  "kernelspec": {
   "display_name": "Python 3",
   "language": "python",
   "name": "python3"
  },
  "language_info": {
   "codemirror_mode": {
    "name": "ipython",
    "version": 3
   },
   "file_extension": ".py",
   "mimetype": "text/x-python",
   "name": "python",
   "nbconvert_exporter": "python",
   "pygments_lexer": "ipython3",
   "version": "3.7.6"
  }
 },
 "nbformat": 4,
 "nbformat_minor": 4
}
