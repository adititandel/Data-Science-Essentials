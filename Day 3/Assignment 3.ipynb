{
 "cells": [
  {
   "cell_type": "markdown",
   "metadata": {},
   "source": [
    "# Questions 1:\n",
    "Create a numpy array starting from 2 till 50 with a stepsize of 3.\n"
   ]
  },
  {
   "cell_type": "code",
   "execution_count": 4,
   "metadata": {},
   "outputs": [
    {
     "name": "stdout",
     "output_type": "stream",
     "text": [
      "[ 2  5  8 11 14 17 20 23 26 29 32 35 38 41 44 47 50]\n"
     ]
    }
   ],
   "source": [
    "import numpy as np\n",
    "\n",
    "arr=np.arange(2,51,3)\n",
    "print(arr)"
   ]
  },
  {
   "cell_type": "markdown",
   "metadata": {},
   "source": [
    "# Questions 2:\n",
    "Accept two lists of 5 elements each from the user.\n",
    "Convert them to numpy arrays. Concatenate these arrays and print it. Also sort these arrays and print it."
   ]
  },
  {
   "cell_type": "code",
   "execution_count": 9,
   "metadata": {},
   "outputs": [
    {
     "name": "stdout",
     "output_type": "stream",
     "text": [
      "4\n",
      "2\n",
      "1\n",
      "5\n",
      "3\n",
      "10\n",
      "8\n",
      "6\n",
      "9\n",
      "7\n",
      "[ 4  2  1  5  3 10  8  6  9  7]\n",
      "[1 2 3 4 5]\n",
      "[ 6  7  8  9 10]\n"
     ]
    }
   ],
   "source": [
    "l1=[]\n",
    "l2=[]\n",
    "\n",
    "for i in range (5):\n",
    "    x=int(input())\n",
    "    l1.append(x)\n",
    "for j in range(5):\n",
    "    y=int(input())\n",
    "    l2.append(y)\n",
    "arr1=np.array(l1)\n",
    "arr2=np.array(l2)\n",
    "\n",
    "concat_array=np.concatenate((arr1,arr2))\n",
    "print(concat_array)\n",
    "\n",
    "sort_arr1=np.sort(arr1)\n",
    "sort_arr2=np.sort(arr2)\n",
    "print(sort_arr1)\n",
    "print(sort_arr2)"
   ]
  },
  {
   "cell_type": "markdown",
   "metadata": {},
   "source": [
    "# Questions 3:\n",
    "Write a code snippet to find the dimensions of a ndarray and its size\n",
    "\n",
    "for dimension:\n",
    "array_name.ndim\n",
    "\n",
    "for size\n",
    "array_name.size"
   ]
  },
  {
   "cell_type": "code",
   "execution_count": 23,
   "metadata": {},
   "outputs": [
    {
     "name": "stdout",
     "output_type": "stream",
     "text": [
      "dimension: 2\n",
      "size: 20\n"
     ]
    }
   ],
   "source": [
    "arr=np.arange(20).reshape((10,2))\n",
    "dim=arr.ndim\n",
    "size=arr.size\n",
    "print(\"dimension:\",dim)\n",
    "print(\"size:\",size)"
   ]
  },
  {
   "cell_type": "markdown",
   "metadata": {},
   "source": [
    "# Questions 4:\n",
    "How to convert a 1D array into a 2D array? Demonstrate with the help of a code snippet\n",
    "Hint: np.newaxis, np.expand_dims\n",
    "\n",
    "\n",
    "Code snippet for np.newaxis:\n",
    "for row: array_name[np.newaxis, :]\n",
    "for column : array_name[:, np.newaxis]"
   ]
  },
  {
   "cell_type": "code",
   "execution_count": 39,
   "metadata": {},
   "outputs": [
    {
     "name": "stdout",
     "output_type": "stream",
     "text": [
      "1D array: (12,)\n",
      "2D array:\n",
      "(1, 12)\n",
      "(12, 1)\n"
     ]
    }
   ],
   "source": [
    "arr=np.arange(12)\n",
    "print(\"1D array:\",arr.shape)\n",
    "print(\"2D array:\")\n",
    "x_arr=arr[np.newaxis, :]\n",
    "print(x_arr.shape)\n",
    "\n",
    "y_arr=arr[: ,np.newaxis]\n",
    "print(y_arr.shape)"
   ]
  },
  {
   "cell_type": "markdown",
   "metadata": {},
   "source": [
    "Code snippet for np.expand_dims:\n",
    "for row: np.expand_dims(array_name, axis = 0)\n",
    "for column: np.expand_dims(array_name, axis = 1) "
   ]
  },
  {
   "cell_type": "code",
   "execution_count": 42,
   "metadata": {},
   "outputs": [
    {
     "name": "stdout",
     "output_type": "stream",
     "text": [
      "1D array: (15,)\n",
      "2D array:\n",
      "(1, 15)\n",
      "(15, 1)\n"
     ]
    }
   ],
   "source": [
    "arr=np.arange(15)\n",
    "print(\"1D array:\",arr.shape)\n",
    "print(\"2D array:\")\n",
    "x_arr=np.expand_dims(arr,axis=0)\n",
    "print(x_arr.shape)\n",
    "\n",
    "y_arr=np.expand_dims(arr,axis=1)\n",
    "print(y_arr.shape)"
   ]
  },
  {
   "cell_type": "markdown",
   "metadata": {},
   "source": [
    "# Questions 5:\n",
    "Consider two square numpy arrays. Stack them vertically and horizontally.\n",
    "Hint: Use vstack(), hstack()"
   ]
  },
  {
   "cell_type": "code",
   "execution_count": 51,
   "metadata": {},
   "outputs": [
    {
     "name": "stdout",
     "output_type": "stream",
     "text": [
      "[2 4 6 8 0]\n",
      "[1 3 5 7 9]\n",
      "Vertical stacking:\n",
      " [[2 4 6 8 0]\n",
      " [1 3 5 7 9]]\n",
      "Horizontal stacking:\n",
      " [2 4 6 8 0 1 3 5 7 9]\n"
     ]
    }
   ],
   "source": [
    "arr1=np.array([2,4,6,8,0])\n",
    "print(arr1)\n",
    "arr2=np.array([1,3,5,7,9])\n",
    "print(arr2)\n",
    "print(\"Vertical stacking:\\n\", np.vstack((arr1,arr2)))\n",
    "print(\"Horizontal stacking:\\n\", np.hstack((arr1,arr2)))"
   ]
  },
  {
   "cell_type": "markdown",
   "metadata": {},
   "source": [
    "# Questions 6:\n",
    "How to get unique items and counts of unique items?"
   ]
  },
  {
   "cell_type": "code",
   "execution_count": 62,
   "metadata": {},
   "outputs": [
    {
     "name": "stdout",
     "output_type": "stream",
     "text": [
      "[[1 5]\n",
      " [2 2]\n",
      " [3 3]\n",
      " [4 5]\n",
      " [5 3]]\n"
     ]
    }
   ],
   "source": [
    "arr=np.array([1,1,4,3,1,5,2,4,1,5,2,4,3,5,4,4,1,3])\n",
    "item,count=np.unique(arr,return_counts=True)\n",
    "print(np.asarray((item,count)).T)"
   ]
  }
 ],
 "metadata": {
  "kernelspec": {
   "display_name": "Python 3",
   "language": "python",
   "name": "python3"
  },
  "language_info": {
   "codemirror_mode": {
    "name": "ipython",
    "version": 3
   },
   "file_extension": ".py",
   "mimetype": "text/x-python",
   "name": "python",
   "nbconvert_exporter": "python",
   "pygments_lexer": "ipython3",
   "version": "3.7.6"
  }
 },
 "nbformat": 4,
 "nbformat_minor": 4
}
